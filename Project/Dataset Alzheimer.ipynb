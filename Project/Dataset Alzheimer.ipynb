{
 "cells": [
  {
   "cell_type": "code",
   "execution_count": 1,
   "id": "c0766eea",
   "metadata": {},
   "outputs": [
    {
     "name": "stdout",
     "output_type": "stream",
     "text": [
      "Dataset URL: https://www.kaggle.com/datasets/rabieelkharoua/alzheimers-disease-dataset\n",
      "      PatientID  Age  Gender  Ethnicity  EducationLevel        BMI  Smoking  \\\n",
      "0          4751   73       0          0               2  22.927749        0   \n",
      "1          4752   89       0          0               0  26.827681        0   \n",
      "2          4753   73       0          3               1  17.795882        0   \n",
      "3          4754   74       1          0               1  33.800817        1   \n",
      "4          4755   89       0          0               0  20.716974        0   \n",
      "...         ...  ...     ...        ...             ...        ...      ...   \n",
      "2144       6895   61       0          0               1  39.121757        0   \n",
      "2145       6896   75       0          0               2  17.857903        0   \n",
      "2146       6897   77       0          0               1  15.476479        0   \n",
      "2147       6898   78       1          3               1  15.299911        0   \n",
      "2148       6899   72       0          0               2  33.289738        0   \n",
      "\n",
      "      AlcoholConsumption  PhysicalActivity  DietQuality  ...  \\\n",
      "0              13.297218          6.327112     1.347214  ...   \n",
      "1               4.542524          7.619885     0.518767  ...   \n",
      "2              19.555085          7.844988     1.826335  ...   \n",
      "3              12.209266          8.428001     7.435604  ...   \n",
      "4              18.454356          6.310461     0.795498  ...   \n",
      "...                  ...               ...          ...  ...   \n",
      "2144            1.561126          4.049964     6.555306  ...   \n",
      "2145           18.767261          1.360667     2.904662  ...   \n",
      "2146            4.594670          9.886002     8.120025  ...   \n",
      "2147            8.674505          6.354282     1.263427  ...   \n",
      "2148            7.890703          6.570993     7.941404  ...   \n",
      "\n",
      "      MemoryComplaints  BehavioralProblems       ADL  Confusion  \\\n",
      "0                    0                   0  1.725883          0   \n",
      "1                    0                   0  2.592424          0   \n",
      "2                    0                   0  7.119548          0   \n",
      "3                    0                   1  6.481226          0   \n",
      "4                    0                   0  0.014691          0   \n",
      "...                ...                 ...       ...        ...   \n",
      "2144                 0                   0  4.492838          1   \n",
      "2145                 0                   1  9.204952          0   \n",
      "2146                 0                   0  5.036334          0   \n",
      "2147                 0                   0  3.785399          0   \n",
      "2148                 0                   1  8.327563          0   \n",
      "\n",
      "      Disorientation  PersonalityChanges  DifficultyCompletingTasks  \\\n",
      "0                  0                   0                          1   \n",
      "1                  0                   0                          0   \n",
      "2                  1                   0                          1   \n",
      "3                  0                   0                          0   \n",
      "4                  0                   1                          1   \n",
      "...              ...                 ...                        ...   \n",
      "2144               0                   0                          0   \n",
      "2145               0                   0                          0   \n",
      "2146               0                   0                          0   \n",
      "2147               0                   0                          0   \n",
      "2148               1                   0                          0   \n",
      "\n",
      "      Forgetfulness  Diagnosis  DoctorInCharge  \n",
      "0                 0          0       XXXConfid  \n",
      "1                 1          0       XXXConfid  \n",
      "2                 0          0       XXXConfid  \n",
      "3                 0          0       XXXConfid  \n",
      "4                 0          0       XXXConfid  \n",
      "...             ...        ...             ...  \n",
      "2144              0          1       XXXConfid  \n",
      "2145              0          1       XXXConfid  \n",
      "2146              0          1       XXXConfid  \n",
      "2147              1          1       XXXConfid  \n",
      "2148              1          0       XXXConfid  \n",
      "\n",
      "[2149 rows x 35 columns]\n"
     ]
    }
   ],
   "source": [
    "import kaggle\n",
    "import pandas as pd\n",
    "\n",
    "kaggle.api.authenticate()\n",
    "kaggle.api.dataset_download_files('rabieelkharoua/alzheimers-disease-dataset', path='./', unzip=True)\n",
    "\n",
    "#https://github.com/Kaggle/kaggle-api/blob/main/docs/README.md\n",
    "\n",
    "data = pd.read_csv('../Jupyter/alzheimers_disease_data.csv')  \n",
    "print(data)"
   ]
  },
  {
   "cell_type": "code",
   "execution_count": 2,
   "id": "95ddd04e",
   "metadata": {},
   "outputs": [
    {
     "data": {
      "text/plain": [
       "Index(['PatientID', 'Age', 'Gender', 'Ethnicity', 'EducationLevel', 'BMI',\n",
       "       'Smoking', 'AlcoholConsumption', 'PhysicalActivity', 'DietQuality',\n",
       "       'SleepQuality', 'FamilyHistoryAlzheimers', 'CardiovascularDisease',\n",
       "       'Diabetes', 'Depression', 'HeadInjury', 'Hypertension', 'SystolicBP',\n",
       "       'DiastolicBP', 'CholesterolTotal', 'CholesterolLDL', 'CholesterolHDL',\n",
       "       'CholesterolTriglycerides', 'MMSE', 'FunctionalAssessment',\n",
       "       'MemoryComplaints', 'BehavioralProblems', 'ADL', 'Confusion',\n",
       "       'Disorientation', 'PersonalityChanges', 'DifficultyCompletingTasks',\n",
       "       'Forgetfulness', 'Diagnosis', 'DoctorInCharge'],\n",
       "      dtype='object')"
      ]
     },
     "execution_count": 2,
     "metadata": {},
     "output_type": "execute_result"
    }
   ],
   "source": [
    "data.columns\n"
   ]
  },
  {
   "cell_type": "code",
   "execution_count": 3,
   "id": "44bc960a",
   "metadata": {},
   "outputs": [],
   "source": [
    "columns_to_keep = ['EducationLevel', 'Smoking', 'BMI', 'CholesterolTotal', \n",
    "                   'Depression', 'AlcoholConsumption', 'Diabetes', \n",
    "                   'PhysicalActivity', 'HeadInjury']\n",
    "\n",
    "# Create a new DataFrame with only those columns\n",
    "data = data[columns_to_keep]\n",
    "data.to_csv('../Jupyter/alzheimers_disease_data_modified.csv', index=None)\n",
    "\n",
    "data=pd.read_csv('../Jupyter/alzheimers_disease_data_modified.csv')"
   ]
  },
  {
   "cell_type": "code",
   "execution_count": 4,
   "id": "38310f24",
   "metadata": {},
   "outputs": [
    {
     "data": {
      "text/plain": [
       "Index(['EducationLevel', 'Smoking', 'BMI', 'CholesterolTotal', 'Depression',\n",
       "       'AlcoholConsumption', 'Diabetes', 'PhysicalActivity', 'HeadInjury'],\n",
       "      dtype='object')"
      ]
     },
     "execution_count": 4,
     "metadata": {},
     "output_type": "execute_result"
    }
   ],
   "source": [
    "data.columns\n"
   ]
  },
  {
   "cell_type": "code",
   "execution_count": 5,
   "id": "51aa874b",
   "metadata": {},
   "outputs": [
    {
     "name": "stdout",
     "output_type": "stream",
     "text": [
      "(2149, 9)\n"
     ]
    }
   ],
   "source": [
    "print(data.shape)\n"
   ]
  },
  {
   "cell_type": "code",
   "execution_count": 6,
   "id": "21442df5",
   "metadata": {},
   "outputs": [
    {
     "data": {
      "text/plain": [
       "(2149, 9)"
      ]
     },
     "execution_count": 6,
     "metadata": {},
     "output_type": "execute_result"
    }
   ],
   "source": [
    "data.dropna().shape\n"
   ]
  },
  {
   "cell_type": "code",
   "execution_count": 7,
   "id": "415c8532",
   "metadata": {},
   "outputs": [
    {
     "data": {
      "text/plain": [
       "(2149, 9)"
      ]
     },
     "execution_count": 7,
     "metadata": {},
     "output_type": "execute_result"
    }
   ],
   "source": [
    "data.dropna().shape"
   ]
  },
  {
   "cell_type": "code",
   "execution_count": null,
   "id": "d74e54e8",
   "metadata": {},
   "outputs": [],
   "source": []
  }
 ],
 "metadata": {
  "kernelspec": {
   "display_name": "Python 3 (ipykernel)",
   "language": "python",
   "name": "python3"
  },
  "language_info": {
   "codemirror_mode": {
    "name": "ipython",
    "version": 3
   },
   "file_extension": ".py",
   "mimetype": "text/x-python",
   "name": "python",
   "nbconvert_exporter": "python",
   "pygments_lexer": "ipython3",
   "version": "3.11.9"
  }
 },
 "nbformat": 4,
 "nbformat_minor": 5
}
